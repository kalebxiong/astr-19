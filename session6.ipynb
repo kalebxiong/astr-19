{
 "cells": [
  {
   "cell_type": "code",
   "execution_count": 5,
   "id": "af43c1bb-9984-4562-a73e-d134156d6cc9",
   "metadata": {},
   "outputs": [],
   "source": [
    "# Define a function to calculate sin(x)\n",
    "import math\n",
    "\n",
    "def calculate_sin(x):\n",
    "    return math.sin(x)"
   ]
  },
  {
   "cell_type": "code",
   "execution_count": 6,
   "id": "f6ae6bcf-e818-4a44-85cf-2e51e5e8811b",
   "metadata": {},
   "outputs": [],
   "source": [
    "# Define a function to calculate cos(x)\n",
    "def calculate_cos(x):\n",
    "    return math.cos(x)"
   ]
  },
  {
   "cell_type": "code",
   "execution_count": 7,
   "id": "241a64fb-0a6e-4f59-816d-7b8b3ee45165",
   "metadata": {},
   "outputs": [],
   "source": [
    "# Create a table of sin(x) and cos(x) values\n",
    "import numpy as np\n",
    "\n",
    "x_values = np.linspace(0, 2, 1000)\n",
    "sin_values = [calculate_sin(x) for x in x_values]\n",
    "cos_values = [calculate_cos(x) for x in x_values]"
   ]
  },
  {
   "cell_type": "code",
   "execution_count": 8,
   "id": "9ccbeba0-8280-4aaf-bbf9-36c8a030f926",
   "metadata": {},
   "outputs": [
    {
     "name": "stdout",
     "output_type": "stream",
     "text": [
      "x\t\tsin(x)\t\tcos(x)\n",
      "0.0000\t\t0.0000\t\t1.0000\n",
      "0.0020\t\t0.0020\t\t1.0000\n",
      "0.0040\t\t0.0040\t\t1.0000\n",
      "0.0060\t\t0.0060\t\t1.0000\n",
      "0.0080\t\t0.0080\t\t1.0000\n",
      "0.0100\t\t0.0100\t\t0.9999\n",
      "0.0120\t\t0.0120\t\t0.9999\n",
      "0.0140\t\t0.0140\t\t0.9999\n",
      "0.0160\t\t0.0160\t\t0.9999\n",
      "0.0180\t\t0.0180\t\t0.9998\n"
     ]
    }
   ],
   "source": [
    "# Print the first 10 values of x, sin(x), and cos(x) in columns\n",
    "print(\"x\\t\\tsin(x)\\t\\tcos(x)\")\n",
    "for i in range(10):\n",
    "    x_val = x_values[i]\n",
    "    sin_val = sin_values[i]\n",
    "    cos_val = cos_values[i]\n",
    "    print(f\"{x_val:.4f}\\t\\t{sin_val:.4f}\\t\\t{cos_val:.4f}\")"
   ]
  }
 ],
 "metadata": {
  "kernelspec": {
   "display_name": "Python 3 (ipykernel)",
   "language": "python",
   "name": "python3"
  },
  "language_info": {
   "codemirror_mode": {
    "name": "ipython",
    "version": 3
   },
   "file_extension": ".py",
   "mimetype": "text/x-python",
   "name": "python",
   "nbconvert_exporter": "python",
   "pygments_lexer": "ipython3",
   "version": "3.11.5"
  }
 },
 "nbformat": 4,
 "nbformat_minor": 5
}
